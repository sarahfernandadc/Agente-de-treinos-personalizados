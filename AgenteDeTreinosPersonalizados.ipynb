{
  "nbformat": 4,
  "nbformat_minor": 0,
  "metadata": {
    "colab": {
      "provenance": [],
      "authorship_tag": "ABX9TyOEs+9JbJdysPr3jMPwCV3l",
      "include_colab_link": true
    },
    "kernelspec": {
      "name": "python3",
      "display_name": "Python 3"
    },
    "language_info": {
      "name": "python"
    }
  },
  "cells": [
    {
      "cell_type": "markdown",
      "metadata": {
        "id": "view-in-github",
        "colab_type": "text"
      },
      "source": [
        "<a href=\"https://colab.research.google.com/github/sarahfernandadc/Agente-de-treinos-personalizados/blob/main/AgenteDeTreinosPersonalizados.ipynb\" target=\"_parent\"><img src=\"https://colab.research.google.com/assets/colab-badge.svg\" alt=\"Open In Colab\"/></a>"
      ]
    },
    {
      "cell_type": "code",
      "execution_count": null,
      "metadata": {
        "id": "HSth8NmmuKjm"
      },
      "outputs": [],
      "source": [
        "# Instalar Framework ADK de agentes do Google\n",
        "!pip install -q google-adk"
      ]
    },
    {
      "cell_type": "code",
      "source": [
        "# Configura a API Key do Google Gemini\n",
        "import os\n",
        "from google.colab import userdata\n",
        "\n",
        "os.environ[\"GOOGLE_API_KEY\"] = \" userdata.get('GOOGLE_API_KEY')\""
      ],
      "metadata": {
        "id": "PfXjVQK74IdI"
      },
      "execution_count": null,
      "outputs": []
    },
    {
      "cell_type": "code",
      "source": [
        "# Importações das bibliotecas e módulos necessários\n",
        "from google.adk.agents import Agent\n",
        "from google.adk.runners import Runner\n",
        "from google.adk.sessions import InMemorySessionService\n",
        "from google.adk.tools import google_search\n",
        "from google.genai import types  # Para criar conteúdos (Content e Part)\n",
        "from datetime import date\n",
        "import textwrap  # Para formatar melhor a saída de texto\n",
        "from IPython.display import display, Markdown  # Para exibir texto formatado no Colab\n",
        "import requests  # Para fazer requisições HTTP\n",
        "import warnings\n",
        "\n",
        "warnings.filterwarnings(\"ignore\")\n",
        "\n",
        "from datetime import datetime\n",
        "from typing import Dict, List\n",
        "from textwrap import dedent\n",
        "import ipywidgets as widgets\n",
        "from IPython.display import display, clear_output"
      ],
      "metadata": {
        "id": "muas83bNyK1u"
      },
      "execution_count": null,
      "outputs": []
    },
    {
      "cell_type": "code",
      "source": [
        "# Função auxiliar que envia uma mensagem para um agente via Runner e retorna a resposta final\n",
        "def call_agent(agent: Agent, message_text: str) -> str:\n",
        "    # Cria um serviço de sessão em memória e uma nova sessão\n",
        "    session_service = InMemorySessionService()\n",
        "    session = session_service.create_session(\n",
        "        app_name=agent.name, user_id=\"user1\", session_id=\"session1\"\n",
        "    )\n",
        "    # Cria um Runner para o agente\n",
        "    runner = Runner(agent=agent, app_name=agent.name, session_service=session_service)\n",
        "    # Cria o conteúdo da mensagem de entrada\n",
        "    content = types.Content(role=\"user\", parts=[types.Part(text=message_text)])\n",
        "\n",
        "    final_response = \"\"\n",
        "    # Itera pelos eventos retornados durante a execução do agente para obter a resposta final\n",
        "    for event in runner.run(user_id=\"user1\", session_id=\"session1\", new_message=content):\n",
        "        if event.is_final_response():\n",
        "            for part in event.content.parts:\n",
        "                if part.text is not None:\n",
        "                    final_response += part.text\n",
        "                    final_response += \"\\n\"\n",
        "    return final_response"
      ],
      "metadata": {
        "id": "H_BXB8uRyeN_"
      },
      "execution_count": null,
      "outputs": []
    },
    {
      "cell_type": "code",
      "source": [
        "# Função auxiliar para exibir texto formatado em Markdown no Colab\n",
        "def to_markdown(text):\n",
        "  text = text.replace('•', '  *')\n",
        "  return Markdown(textwrap.indent(text, '> ', predicate=lambda _: True))"
      ],
      "metadata": {
        "id": "FdtdI8-R72-s"
      },
      "execution_count": null,
      "outputs": []
    },
    {
      "cell_type": "code",
      "source": [
        "# ========================================\n",
        "# 🏋️ Agente 1 – Gerador de Plano de Treino\n",
        "# ========================================\n",
        "\n",
        "def agente_treino(perfil_usuario):\n",
        "    plano = Agent(\n",
        "        name=\"agente_gerador_treino\",\n",
        "        model=\"gemini-2.0-flash\",\n",
        "        instruction=dedent(\"\"\"\n",
        "            Você é um personal trainer especializado.\n",
        "            Com base no perfil abaixo, crie um plano de treino semanal.\n",
        "            Use formatação clara e acessível, com grupos musculares, exercícios, séries, repetições e sugestões de descanso.\n",
        "            Evite copiar planos genéricos. Personalize de acordo com os dados fornecidos.\n",
        "            Quero que o treino seja enviado em formato de tabela para facilitar a visualização.\n",
        "            Neste momento desejo uma resposta limpa e sem informações sobre como fazer o exercicio ou intruções extras, a resposta deve ser apenas uma tabela com\n",
        "            Dia, Grupo Muscular, Exercício,\tSéries,\tRepetições,\tDescanso\n",
        "        \"\"\"),\n",
        "        description=\"Agente que cria plano de treino com base no perfil do usuário.\"\n",
        "    )\n",
        "\n",
        "    entrada = dedent(f\"\"\"\n",
        "    Nome: {perfil_usuario['nome']}\n",
        "    Objetivo: {perfil_usuario['objetivo']}\n",
        "    Nível: {perfil_usuario['nivel']}\n",
        "    Frequência semanal: {perfil_usuario['frequencia']}\n",
        "    Equipamento disponível: {perfil_usuario['equipamento']}\n",
        "    Sexo: {perfil_usuario['sexo']}\n",
        "    Altura: {perfil_usuario['altura']} m\n",
        "    Peso: {perfil_usuario['peso']} kg\n",
        "    \"\"\")\n",
        "\n",
        "    resposta = call_agent(plano, entrada)\n",
        "    return resposta"
      ],
      "metadata": {
        "id": "N5yIr-MHysJA"
      },
      "execution_count": null,
      "outputs": []
    },
    {
      "cell_type": "code",
      "source": [
        "# ===============================================\n",
        "# 🔍 Agente 2 – Buscador de Execução de Exercício\n",
        "# ===============================================\n",
        "\n",
        "def agente_execucao_exercicio(nome_exercicio):\n",
        "    executor = Agent(\n",
        "        name=\"agente_execucao_exercicio\",\n",
        "        model=\"gemini-2.0-flash\",\n",
        "        instruction=dedent(\"\"\"\n",
        "            Você é um especialista em musculação e biomecânica.\n",
        "            Ao receber o nome de um exercício, forneça uma explicação clara e objetiva de como executá-lo corretamente.\n",
        "            Indique postura, posicionamento dos pés/mãos, possíveis variações e cuidados.\n",
        "            Seja direto e prático, com foco em orientação para leigos.\n",
        "            Além disso, ao final da explicação forneça uma sugestão de vídeo do YouTube sobre o exercício.\n",
        "        \"\"\"),\n",
        "        description=\"Agente que explica como executar corretamente exercícios de musculação.\"\n",
        "    )\n",
        "\n",
        "    entrada = f\"Como executar corretamente o exercício: {nome_exercicio}?\"\n",
        "\n",
        "    resposta = call_agent(executor, entrada)\n",
        "    return resposta\n"
      ],
      "metadata": {
        "id": "oJVzjPn_1w1z"
      },
      "execution_count": null,
      "outputs": []
    },
    {
      "cell_type": "code",
      "source": [
        "# ========================================\n",
        "# 🔁 Agente 3 – Substituição de Exercício\n",
        "# ========================================\n",
        "\n",
        "def agente_substituicao_exercicio(exercicio, nivel, equipamento):\n",
        "    substituidor = Agent(\n",
        "        name=\"agente_substituidor_exercicio\",\n",
        "        model=\"gemini-2.0-flash\",\n",
        "        instruction=dedent(f\"\"\"\n",
        "            Você é um treinador especializado em variações e substituições de exercícios.\n",
        "\n",
        "            Para o exercício fornecido, forneça:\n",
        "            - De 2 a 3 substituições ou variações viáveis\n",
        "            - Indique para qual local são indicadas (casa ou academia)\n",
        "            - Informe o grupo muscular trabalhado (caso o usuário não informe)\n",
        "            - Se possível, dê opções com e sem equipamentos\n",
        "\n",
        "            Adapte as sugestões ao nível do usuário ({nivel}) e aos equipamentos disponíveis ({equipamento}).\n",
        "\n",
        "            Exemplo de resposta:\n",
        "            📌 Exercício: Supino reto com barra\n",
        "            🏋️ Substituições:\n",
        "            - Flexão de braço elevada (para casa, iniciante)\n",
        "            - Supino com halteres no chão (casa ou academia)\n",
        "            - Máquina peck-deck (para peitoral, academia)\n",
        "            💡 Grupo muscular: Peitoral\n",
        "        \"\"\")\n",
        "    )\n",
        "\n",
        "    entrada = f\"Exercício: {exercicio}; Nível: {nivel}; Equipamento: {equipamento}\"\n",
        "\n",
        "    resposta = call_agent(substituidor, entrada)\n",
        "    return resposta\n"
      ],
      "metadata": {
        "id": "_l3wCyQgD6uD"
      },
      "execution_count": null,
      "outputs": []
    },
    {
      "cell_type": "code",
      "source": [
        "def menu_principal():\n",
        "\n",
        "    while True:\n",
        "        print(\"\\n🤖 Bem-vindo ao TreinIA – Agente Inteligente de Treinos 💪\")\n",
        "        print(\"Escolha uma opção:\")\n",
        "        print(\"1️⃣  Gerar plano de treino personalizado\")\n",
        "        print(\"2️⃣  Saber como executar um exercício\")\n",
        "        print(\"3️⃣  Substituir um exercício\")\n",
        "        print(\"0️⃣  Sair\")\n",
        "\n",
        "        opcao = input(\"Digite o número da opção desejada: \")\n",
        "\n",
        "        if opcao == \"1\":\n",
        "            nome = input(\"Nome: \")\n",
        "            objetivo = input(\"Objetivo (ex: emagrecimento, hipertrofia): \")\n",
        "            nivel = input(\"Nível (iniciante, intermediário, avançado): \")\n",
        "            frequencia = input(\"Quantos dias por semana pretende treinar? \")\n",
        "            equipamento = input(\"Equipamentos disponíveis (ex: academia completa, halteres, nenhum): \")\n",
        "            sexo = input(\"Sexo: \")\n",
        "            altura = input(\"Altura (m): \")\n",
        "            peso = input(\"Peso (kg): \")\n",
        "\n",
        "            perfil = {\n",
        "                \"nome\": nome,\n",
        "                \"objetivo\": objetivo,\n",
        "                \"nivel\": nivel,\n",
        "                \"frequencia\": frequencia,\n",
        "                \"equipamento\": equipamento,\n",
        "                \"sexo\": sexo,\n",
        "                \"altura\": altura,\n",
        "                \"peso\": peso\n",
        "            }\n",
        "\n",
        "            print(\"\\n📋 Gerando plano de treino personalizado...\\n\")\n",
        "            plano = agente_treino(perfil)\n",
        "            plano_salvo = plano  # Armazena o plano gerado para uso no agente 3\n",
        "            display(Markdown(f\"### 🏋️ Plano de Treino para {nome}\\n{plano}\"))\n",
        "\n",
        "        elif opcao == \"2\":\n",
        "            exercicio = input(\"Digite o nome do exercício: \")\n",
        "            resposta = agente_execucao_exercicio(exercicio)\n",
        "            print(\"\\n📽️ Execução do exercício:\\n\")\n",
        "            display(to_markdown(resposta))\n",
        "\n",
        "        elif opcao == \"3\":\n",
        "            exercicio = input(\"Digite o nome do exercício que deseja substituir: \")\n",
        "            nivel = input(\"Qual seu nível (iniciante, intermediário, avançado)? \")\n",
        "            equipamento = input(\"Equipamentos disponíveis (ex: academia completa, halteres, nenhum): \")\n",
        "            print(\"\\n🔄 Buscando substituições para o exercício...\\n\")\n",
        "            resposta = agente_substituicao_exercicio(exercicio, nivel, equipamento)\n",
        "            display(to_markdown(resposta))\n",
        "\n",
        "        elif opcao == \"0\":\n",
        "            print(\"Encerrando o sistema. Até logo! 👋\")\n",
        "            break\n",
        "\n",
        "        else:\n",
        "            print(\"❌ Opção inválida. Tente novamente.\")\n"
      ],
      "metadata": {
        "id": "lJCwe3OS2pt6"
      },
      "execution_count": null,
      "outputs": []
    },
    {
      "cell_type": "code",
      "source": [
        "menu_principal()"
      ],
      "metadata": {
        "id": "zZswsrO3JegB"
      },
      "execution_count": null,
      "outputs": []
    }
  ]
}